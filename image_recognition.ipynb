{
 "cells": [
  {
   "cell_type": "code",
   "execution_count": 1,
   "id": "abb83558-e88e-45de-9270-72f9b14a8736",
   "metadata": {},
   "outputs": [],
   "source": [
    "#libraries for model\n",
    "import pickle\n",
    "import numpy as np\n",
    "import os\n",
    "from tensorflow.keras.utils import to_categorical\n",
    "from tensorflow.keras.models import Sequential\n",
    "from tensorflow.keras.layers import Conv2D, MaxPooling2D, Flatten, Dense, Dropout\n"
   ]
  },
  {
   "cell_type": "code",
   "execution_count": 2,
   "id": "bbab5d68-eb3a-42aa-9bd4-bd17cc6d6c77",
   "metadata": {},
   "outputs": [],
   "source": [
    "# Function to load the cifar dataset manually\n",
    "def loadcifar10(file_path):\n",
    "    with open(file_path, 'rb') as file:\n",
    "        batch = pickle.load(file, encoding='latin1')\n",
    "        data = batch['data']\n",
    "        labels = batch['labels']\n",
    "\n",
    "        # Reshapeing\n",
    "        data = data.reshape(-1, 3, 32, 32)\n",
    "        data = data.transpose(0, 2, 3, 1)\n",
    "        \n",
    "        return data, np.array(labels)"
   ]
  },
  {
   "cell_type": "code",
   "execution_count": 3,
   "id": "3546c617-b2ca-40ea-a633-94ea81ec86d6",
   "metadata": {},
   "outputs": [],
   "source": [
    "# Function to load training data\n",
    "def loadcifar10data(dataset_dir):\n",
    "    train_data = []\n",
    "    train_labels = []\n",
    "    \n",
    "    # Load all 5 training batches\n",
    "    for i in range(1, 6):\n",
    "        file_path = os.path.join(dataset_dir, f\"data_batch_{i}\")\n",
    "        data, labels = loadcifar10(file_path)\n",
    "        train_data.append(data)\n",
    "        train_labels.append(labels)\n",
    "    \n",
    "    \n",
    "    train_data = np.concatenate(train_data)\n",
    "    train_labels = np.concatenate(train_labels)\n",
    "    \n",
    "    # Load test data\n",
    "    test_data, test_labels = loadcifar10(os.path.join(dataset_dir, \"test_batch\"))\n",
    "    \n",
    "    return train_data, train_labels, test_data, test_labels\n"
   ]
  },
  {
   "cell_type": "code",
   "execution_count": 4,
   "id": "756c4a18-e59e-497d-8f74-f2818406bc9d",
   "metadata": {},
   "outputs": [],
   "source": [
    "dataset_directory = '/Users/harikrishnans/Downloads/cifar-10-batches-py'"
   ]
  },
  {
   "cell_type": "code",
   "execution_count": 5,
   "id": "160c6a18-2ee9-4c1d-9da7-905b4bdaf4b4",
   "metadata": {},
   "outputs": [],
   "source": [
    "train_data, train_labels, test_data, test_labels = loadcifar10data(dataset_directory)"
   ]
  },
  {
   "cell_type": "code",
   "execution_count": 6,
   "id": "67174d64-4615-4de6-ac92-076f6dfd04bd",
   "metadata": {},
   "outputs": [
    {
     "name": "stdout",
     "output_type": "stream",
     "text": [
      "Training data shape: (50000, 32, 32, 3)\n",
      "Training labels shape: (50000,)\n",
      "Test data shape: (10000, 32, 32, 3)\n",
      "Test labels shape: (10000,)\n"
     ]
    }
   ],
   "source": [
    "print(f'Training data shape: {train_data.shape}')\n",
    "print(f'Training labels shape: {train_labels.shape}')\n",
    "print(f'Test data shape: {test_data.shape}')\n",
    "print(f'Test labels shape: {test_labels.shape}')"
   ]
  },
  {
   "cell_type": "code",
   "execution_count": 7,
   "id": "f1d2b68a-a852-4269-9337-c453791bf100",
   "metadata": {},
   "outputs": [],
   "source": [
    "#normalising\n",
    "train_data = train_data.astype('float32') / 255.0\n",
    "test_data = test_data.astype('float32') / 255.0"
   ]
  },
  {
   "cell_type": "code",
   "execution_count": 8,
   "id": "ffad5a80-203d-403f-8959-4286eedabf99",
   "metadata": {},
   "outputs": [],
   "source": [
    "#categorical encoding\n",
    "train_labels = to_categorical(train_labels, 10)\n",
    "test_labels = to_categorical(test_labels, 10)"
   ]
  },
  {
   "cell_type": "code",
   "execution_count": 9,
   "id": "c20055d7-2d74-4d97-86a3-3a4f72ebdf0f",
   "metadata": {},
   "outputs": [],
   "source": [
    "model = Sequential()"
   ]
  },
  {
   "cell_type": "code",
   "execution_count": 10,
   "id": "e10fdaac-af68-47b7-b3db-649dbf91ac0c",
   "metadata": {},
   "outputs": [
    {
     "name": "stderr",
     "output_type": "stream",
     "text": [
      "/Library/Frameworks/Python.framework/Versions/3.12/lib/python3.12/site-packages/keras/src/layers/convolutional/base_conv.py:99: UserWarning: Do not pass an `input_shape`/`input_dim` argument to a layer. When using Sequential models, prefer using an `Input(shape)` object as the first layer in the model instead.\n",
      "  super().__init__(\n"
     ]
    }
   ],
   "source": [
    "# Add Convolutional layers\n",
    "model.add(Conv2D(32, (3, 3), activation='relu', input_shape=(32, 32, 3)))\n",
    "model.add(MaxPooling2D((2, 2)))\n",
    "\n",
    "model.add(Conv2D(64, (3, 3), activation='relu'))\n",
    "model.add(MaxPooling2D((2, 2)))\n",
    "\n",
    "model.add(Flatten())\n",
    "model.add(Dense(128, activation='relu'))\n",
    "model.add(Dropout(0.5))\n",
    "model.add(Dense(10, activation='softmax'))"
   ]
  },
  {
   "cell_type": "code",
   "execution_count": 11,
   "id": "e3673fb5-110e-45a3-84f3-f9ede4068851",
   "metadata": {},
   "outputs": [],
   "source": [
    "model.compile(optimizer='adam', loss='categorical_crossentropy', metrics=['accuracy'])"
   ]
  },
  {
   "cell_type": "code",
   "execution_count": 12,
   "id": "e288f2f2-1a13-4fde-b053-097b2fbd45ef",
   "metadata": {},
   "outputs": [
    {
     "name": "stdout",
     "output_type": "stream",
     "text": [
      "Epoch 1/10\n",
      "\u001b[1m782/782\u001b[0m \u001b[32m━━━━━━━━━━━━━━━━━━━━\u001b[0m\u001b[37m\u001b[0m \u001b[1m12s\u001b[0m 15ms/step - accuracy: 0.3050 - loss: 1.8789 - val_accuracy: 0.5348 - val_loss: 1.3087\n",
      "Epoch 2/10\n",
      "\u001b[1m782/782\u001b[0m \u001b[32m━━━━━━━━━━━━━━━━━━━━\u001b[0m\u001b[37m\u001b[0m \u001b[1m12s\u001b[0m 15ms/step - accuracy: 0.4978 - loss: 1.4029 - val_accuracy: 0.5860 - val_loss: 1.1698\n",
      "Epoch 3/10\n",
      "\u001b[1m782/782\u001b[0m \u001b[32m━━━━━━━━━━━━━━━━━━━━\u001b[0m\u001b[37m\u001b[0m \u001b[1m12s\u001b[0m 16ms/step - accuracy: 0.5532 - loss: 1.2565 - val_accuracy: 0.6090 - val_loss: 1.1040\n",
      "Epoch 4/10\n",
      "\u001b[1m782/782\u001b[0m \u001b[32m━━━━━━━━━━━━━━━━━━━━\u001b[0m\u001b[37m\u001b[0m \u001b[1m13s\u001b[0m 16ms/step - accuracy: 0.5803 - loss: 1.1815 - val_accuracy: 0.6311 - val_loss: 1.0584\n",
      "Epoch 5/10\n",
      "\u001b[1m782/782\u001b[0m \u001b[32m━━━━━━━━━━━━━━━━━━━━\u001b[0m\u001b[37m\u001b[0m \u001b[1m13s\u001b[0m 16ms/step - accuracy: 0.6110 - loss: 1.1124 - val_accuracy: 0.6422 - val_loss: 1.0146\n",
      "Epoch 6/10\n",
      "\u001b[1m782/782\u001b[0m \u001b[32m━━━━━━━━━━━━━━━━━━━━\u001b[0m\u001b[37m\u001b[0m \u001b[1m13s\u001b[0m 16ms/step - accuracy: 0.6245 - loss: 1.0617 - val_accuracy: 0.6638 - val_loss: 0.9647\n",
      "Epoch 7/10\n",
      "\u001b[1m782/782\u001b[0m \u001b[32m━━━━━━━━━━━━━━━━━━━━\u001b[0m\u001b[37m\u001b[0m \u001b[1m13s\u001b[0m 16ms/step - accuracy: 0.6424 - loss: 1.0212 - val_accuracy: 0.6738 - val_loss: 0.9264\n",
      "Epoch 8/10\n",
      "\u001b[1m782/782\u001b[0m \u001b[32m━━━━━━━━━━━━━━━━━━━━\u001b[0m\u001b[37m\u001b[0m \u001b[1m13s\u001b[0m 16ms/step - accuracy: 0.6590 - loss: 0.9641 - val_accuracy: 0.6868 - val_loss: 0.9073\n",
      "Epoch 9/10\n",
      "\u001b[1m782/782\u001b[0m \u001b[32m━━━━━━━━━━━━━━━━━━━━\u001b[0m\u001b[37m\u001b[0m \u001b[1m13s\u001b[0m 16ms/step - accuracy: 0.6705 - loss: 0.9374 - val_accuracy: 0.6906 - val_loss: 0.8953\n",
      "Epoch 10/10\n",
      "\u001b[1m782/782\u001b[0m \u001b[32m━━━━━━━━━━━━━━━━━━━━\u001b[0m\u001b[37m\u001b[0m \u001b[1m13s\u001b[0m 16ms/step - accuracy: 0.6812 - loss: 0.9010 - val_accuracy: 0.6809 - val_loss: 0.9166\n"
     ]
    },
    {
     "data": {
      "text/plain": [
       "<keras.src.callbacks.history.History at 0x13fee7c80>"
      ]
     },
     "execution_count": 12,
     "metadata": {},
     "output_type": "execute_result"
    }
   ],
   "source": [
    "# Train the model\n",
    "model.fit(train_data, train_labels, epochs=10, batch_size=64, validation_data=(test_data, test_labels))"
   ]
  },
  {
   "cell_type": "code",
   "execution_count": 13,
   "id": "a774e2e7-3558-440e-b61f-0942c6fefa0b",
   "metadata": {},
   "outputs": [
    {
     "name": "stdout",
     "output_type": "stream",
     "text": [
      "\u001b[1m313/313\u001b[0m \u001b[32m━━━━━━━━━━━━━━━━━━━━\u001b[0m\u001b[37m\u001b[0m \u001b[1m1s\u001b[0m 4ms/step - accuracy: 0.6850 - loss: 0.9094\n",
      "Test accuracy: 0.6809\n"
     ]
    }
   ],
   "source": [
    "test_loss, test_acc = model.evaluate(test_data, test_labels)\n",
    "\n",
    "print(f'Test accuracy: {test_acc:.4f}')"
   ]
  },
  {
   "cell_type": "code",
   "execution_count": 14,
   "id": "ead90d94-9426-4149-97a6-d561e3971e84",
   "metadata": {},
   "outputs": [],
   "source": [
    "model.save('/Users/harikrishnans/Downloads/recog1.keras')\n"
   ]
  },
  {
   "cell_type": "code",
   "execution_count": 15,
   "id": "7d96b10d-4f82-475b-9719-9cc88d52378a",
   "metadata": {},
   "outputs": [
    {
     "name": "stdout",
     "output_type": "stream",
     "text": [
      "\u001b[1m1/1\u001b[0m \u001b[32m━━━━━━━━━━━━━━━━━━━━\u001b[0m\u001b[37m\u001b[0m \u001b[1m0s\u001b[0m 23ms/step\n",
      "Predicted class: dog\n"
     ]
    },
    {
     "name": "stderr",
     "output_type": "stream",
     "text": [
      "/Library/Frameworks/Python.framework/Versions/3.12/lib/python3.12/site-packages/keras/src/saving/saving_lib.py:418: UserWarning: Skipping variable loading for optimizer 'rmsprop', because it has 10 variables whereas the saved optimizer has 18 variables. \n",
      "  trackable.load_own_variables(weights_store.get(inner_path))\n"
     ]
    }
   ],
   "source": [
    "#Example usage\n",
    "from tensorflow.keras.models import load_model\n",
    "from tensorflow.keras.preprocessing import image\n",
    "import numpy as np\n",
    "\n",
    "model = load_model('/Users/harikrishnans/Downloads/recog.keras')\n",
    "\n",
    "classes = ['airplane', 'automobile', 'bird', 'cat', 'deer', 'dog', 'frog', 'horse', 'ship', 'truck']\n",
    "\n",
    "\n",
    "img = image.load_img('/Users/harikrishnans/Downloads/dog1.jpeg', target_size=(32, 32))\n",
    "img = image.img_to_array(img)\n",
    "img = np.expand_dims(img, axis=0) / 255.0\n",
    "\n",
    "prediction = model.predict(img)\n",
    "print(f'Predicted class: {classes[np.argmax(prediction)]}')"
   ]
  },
  {
   "cell_type": "code",
   "execution_count": null,
   "id": "b07d5902-4035-438b-9e62-585cbf404238",
   "metadata": {},
   "outputs": [],
   "source": []
  }
 ],
 "metadata": {
  "kernelspec": {
   "display_name": "Python 3 (ipykernel)",
   "language": "python",
   "name": "python3"
  },
  "language_info": {
   "codemirror_mode": {
    "name": "ipython",
    "version": 3
   },
   "file_extension": ".py",
   "mimetype": "text/x-python",
   "name": "python",
   "nbconvert_exporter": "python",
   "pygments_lexer": "ipython3",
   "version": "3.12.2"
  }
 },
 "nbformat": 4,
 "nbformat_minor": 5
}
